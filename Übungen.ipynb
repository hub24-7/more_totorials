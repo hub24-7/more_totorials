{
  "nbformat": 4,
  "nbformat_minor": 0,
  "metadata": {
    "colab": {
      "name": "Übungen.ipynb",
      "provenance": [],
      "collapsed_sections": []
    },
    "kernelspec": {
      "name": "python3",
      "display_name": "Python 3"
    },
    "language_info": {
      "name": "python"
    }
  },
  "cells": [
    {
      "cell_type": "markdown",
      "metadata": {
        "id": "W-cLGDMWnFye"
      },
      "source": [
        "1.\n",
        "Gebe mithilfe der print()-Funktion den Text \"hallo welt\" aus"
      ]
    },
    {
      "cell_type": "code",
      "metadata": {
        "id": "BIZij3uYnONX"
      },
      "source": [
        "#dein Code hier"
      ],
      "execution_count": null,
      "outputs": []
    },
    {
      "cell_type": "markdown",
      "metadata": {
        "id": "BWihQ8AHm4Kr"
      },
      "source": [
        "2.\n",
        "Berechne 5 *6 in python und gib das Ergebnis mit print() aus"
      ]
    },
    {
      "cell_type": "code",
      "metadata": {
        "id": "vEdPE-k5m4dN"
      },
      "source": [
        "#dein Code hier"
      ],
      "execution_count": null,
      "outputs": []
    },
    {
      "cell_type": "markdown",
      "metadata": {
        "id": "29bMg0dZwQ3x"
      },
      "source": [
        "3.\n",
        "Verändere den Code so, dass 4*(6+1)=28 ausgegeben wird"
      ]
    },
    {
      "cell_type": "code",
      "metadata": {
        "id": "gjrzBF1SwiiA"
      },
      "source": [
        "print(4*6+1)"
      ],
      "execution_count": null,
      "outputs": []
    },
    {
      "cell_type": "markdown",
      "metadata": {
        "id": "Fs5GNbsruBou"
      },
      "source": [
        "4.\n",
        "Verändere den code so, dass die Summe aus zahl1 und zahl2 ausgegeben wird.\n",
        "\n",
        "Tipp: im Moment wird wegen einem (absichtlichen) Tippfehler das doppelte von Zahl 1 ausgegeben und nicht die Summe von zahl1 und zahl2"
      ]
    },
    {
      "cell_type": "code",
      "metadata": {
        "id": "V18vgrJhuCGM"
      },
      "source": [
        "zahl1=5\n",
        "zahl2=7\n",
        "print(zahl1+zahl1)#verändere diese Zeile"
      ],
      "execution_count": null,
      "outputs": []
    },
    {
      "cell_type": "markdown",
      "metadata": {
        "id": "4iU4Aej7ylAo"
      },
      "source": [
        "5.\n",
        "Frage wert1, wert2 und wert3 mithilfe von input() ab."
      ]
    },
    {
      "cell_type": "code",
      "metadata": {
        "id": "1xmTHsuTy53A"
      },
      "source": [
        "#dein Code hier\n",
        "print(wert1,\"und\",wert2,\"und\",wert3) #Wenn die Werte nicht zugewiesen sind, gibt es eine Fehlermeldung"
      ],
      "execution_count": null,
      "outputs": []
    },
    {
      "cell_type": "markdown",
      "metadata": {
        "id": "ZaSd9HallFdv"
      },
      "source": [
        "6.\n",
        "Berechne die Wurzel von 11 mithilfe des math-moduls und gib sie mit print() aus"
      ]
    },
    {
      "cell_type": "code",
      "metadata": {
        "id": "mxXBXCPDlGKR"
      },
      "source": [
        "import math\n",
        "#dein code hier"
      ],
      "execution_count": null,
      "outputs": []
    },
    {
      "cell_type": "markdown",
      "metadata": {
        "id": "4qjcT3Gg1KAy"
      },
      "source": [
        "7.\n",
        "Es wird eine Zahl eingegeben. Setze die Variable zahlBesonders auf True, wenn die eingegebene Zahl gleich 4 oder größer als 10 ist, und auf False wenn nicht"
      ]
    },
    {
      "cell_type": "code",
      "metadata": {
        "id": "qehYOcYG1L2Y"
      },
      "source": [
        "zahl=input(\"gib eine Zahl ein\")\n",
        "\n",
        "zahlBesonders=False#verändere diese Zeile\n",
        "\n",
        "if(zahlBesonders):\n",
        "  print(\"Zahl ist gleich 4 oder größer als 10\")\n",
        "else:\n",
        "  print(\"Zahl ist nicht gleich 4 oder größer als 10\")"
      ],
      "execution_count": null,
      "outputs": []
    },
    {
      "cell_type": "markdown",
      "metadata": {
        "id": "ABrQf8565dgG"
      },
      "source": [
        "8.\n",
        "gib die Elemente 0 bis 4 (also die ersten 5 Elemente) des Arrays aus"
      ]
    },
    {
      "cell_type": "code",
      "metadata": {
        "id": "b-ZSzQ7z57lI"
      },
      "source": [
        "array=[\"wichtig\",\"wichtig\",\"wichtig\",\"wichtig\",\"wichtig\",\"unwichtig\"]\n",
        "#dein Code hier"
      ],
      "execution_count": null,
      "outputs": []
    },
    {
      "cell_type": "markdown",
      "metadata": {
        "id": "VnXGrKeSlro6"
      },
      "source": [
        "9.\n",
        "Schreibe eine for-schleife, die alle Zahlen von 50 bis 60 ausgibt (tipp:benutze range())"
      ]
    },
    {
      "cell_type": "code",
      "metadata": {
        "id": "ML4jsGHFlzGN"
      },
      "source": [
        "#dein code hier"
      ],
      "execution_count": null,
      "outputs": []
    },
    {
      "cell_type": "markdown",
      "metadata": {
        "id": "2H8fSHbrmF29"
      },
      "source": [
        "10.\n",
        "Hier ist eine verschachtelte for-schleife. Mache, dass der folgende Code alle möglichen Kombinationen der Wörter in liste 1 und liste 2 ausgibt"
      ]
    },
    {
      "cell_type": "code",
      "metadata": {
        "id": "HDjnmQ0OmGQR"
      },
      "source": [
        "liste1=[\"Apfel\",\"Bananen\",\"Heidelbeer\"]\n",
        "liste2=[\"baum\",\"kuchen\",\"saft\"]\n",
        "for i1 in liste1:\n",
        "  for i2 in liste2:\n",
        "    #dein code hier"
      ],
      "execution_count": null,
      "outputs": []
    },
    {
      "cell_type": "markdown",
      "metadata": {
        "id": "joANx5COGnBk"
      },
      "source": [
        "11.\n",
        "Bearbeite das folgende Code-stück, so dass es beim Ausführen zehn zufällige Farben ausgibt\n",
        "\n",
        "tipp:du benutzt das random-modul"
      ]
    },
    {
      "cell_type": "code",
      "metadata": {
        "id": "UNOiAvLiaW39"
      },
      "source": [
        "import random\n",
        "farbenwürfel=[\"rot\",\"blau\",\"grün\",\"gelb\",\"orange\",\"braun\"]\n",
        "\n",
        "for i in range(10):\n",
        "  #dein Code hier"
      ],
      "execution_count": null,
      "outputs": []
    },
    {
      "cell_type": "markdown",
      "metadata": {
        "id": "c-vPAz6b7s5v"
      },
      "source": [
        "12.\n",
        "Füge mithilfe von .append() alle Zahlen von 0 bis 9 dem Array hinzu"
      ]
    },
    {
      "cell_type": "code",
      "metadata": {
        "id": "cRYYgxT676n1"
      },
      "source": [
        "array=[]\n",
        "for i in range(10):\n",
        "  #dein Code hier\n",
        "  \n",
        "print(array)"
      ],
      "execution_count": null,
      "outputs": []
    },
    {
      "cell_type": "markdown",
      "metadata": {
        "id": "YpMvkaCCJaaK"
      },
      "source": [
        "13.\n",
        "Bearbeite das folgenden Code-stück, so dass die Funktion `quadriere(zahl)` die ihr gegebene Zahl quadriert"
      ]
    },
    {
      "cell_type": "code",
      "metadata": {
        "id": "N1GA5GKtJp7S"
      },
      "source": [
        "def quadriere(zahl):\n",
        "  return #dein Code hier\n",
        "for i in range(10):\n",
        "  print(i,\"quadriert ist\",quadriere(i))"
      ],
      "execution_count": null,
      "outputs": []
    },
    {
      "cell_type": "markdown",
      "metadata": {
        "id": "YxblvTuIHhx1"
      },
      "source": [
        "14.\n",
        "Jede Zahl in der Fibonacci-Zahlenreihe ist die Summe aus den vorherigen zwei Zahlen. Die ersten zwei Zahlen sind aber beide 1.\n",
        "\n",
        "Die ersten 7 Fibonacci-Zahlen sind zum Beispiel 1, 1, 2, 3, 5, 8, 13\n",
        "\n",
        "Die ersten zwei Zahlen sind beide 1, das braucht man nicht ausrechnen. Bearbeite das folgende Code-stück so, dass es 10 weitere Zahlen der Fibonacci-Reihe ausrechnet, zu der Liste hinzufügt und dann ausgibt"
      ]
    },
    {
      "cell_type": "code",
      "metadata": {
        "id": "oD0_bKgbISeW"
      },
      "source": [
        "fibonacci=[1,1]\n",
        "anzahlNeuerStellen=10\n",
        "for i in range(10):\n",
        "  letzteZahl=fibonacci[len(fibonacci)-1]\n",
        "  vorletzteZahl=fibonacci[len(fibonacci)-2]\n",
        "  #dein Code hier\n",
        "print(fibonacci)"
      ],
      "execution_count": null,
      "outputs": []
    },
    {
      "cell_type": "markdown",
      "metadata": {
        "id": "-_OSH1hzKiz6"
      },
      "source": [
        "15.\n",
        "selectionsort funktioniert so:\n",
        "es sucht das kleinste Element in der unsortierten Liste, fügt es an die letzte Stelle der neuen(sortierten) Liste und entfernt es aus der unsortierten Liste. Das geht so weiter, bis die unsortierte Liste leer ist.\n",
        "\n",
        "Ich habe die Schritte \"Finden des kleinsten Elements\" und \"Entfernen von Elementen aus einer Liste\" schon gemacht, sie müssen nur kombiniert werden. Tipp: es sind drei Zeilen Code notwendig\n",
        "\n",
        "bearbeite das folgende Code-stück, so dass selectionsort funktioniert"
      ]
    },
    {
      "cell_type": "code",
      "metadata": {
        "id": "m6isaqsbLd3K"
      },
      "source": [
        "import random\n",
        "def neueZufälligeListe(länge):\n",
        "  Liste=[]\n",
        "  for i in range(länge):\n",
        "    Liste.append(random.randint(0,100))\n",
        "  return Liste\n",
        "def positionDesKleinstenElements(liste):\n",
        "  kleinsterWert=9999999\n",
        "  position=-1 #-1 wird nur zurückgegeben, wenn die Liste leer ist\n",
        "  for i in range(len(liste)):\n",
        "    if liste[i]<kleinsterWert:\n",
        "      position=i\n",
        "      kleinsterWert=liste[i]\n",
        "  return position\n",
        "def entferneElementAusListe(liste,position):\n",
        "  listenkopie=liste.copy()\n",
        "  return liste[:position]+liste[position+1:]\n",
        "\n",
        "\n",
        "def selectionsort(liste):\n",
        "  alteListe=liste.copy()\n",
        "  neueListe=[]\n",
        "  while len(alteListe)>0:#vorsicht, mögliche Endlosschleife\n",
        "    #dein Code hier\n",
        "  return neueListe\n",
        "\n",
        "unsortierteliste=neueZufälligeListe(15)\n",
        "print(\"unsortiert\",unsortierteliste)\n",
        "print(\"sortiert\",selectionsort(unsortierteliste))"
      ],
      "execution_count": null,
      "outputs": []
    },
    {
      "cell_type": "markdown",
      "metadata": {
        "id": "NiODD46doE2j"
      },
      "source": [
        "16.\n",
        "Ziehe dem im dictionary beschriebenen Menschen einen Hut an"
      ]
    },
    {
      "cell_type": "code",
      "metadata": {
        "id": "z6NPIzO6oVI1"
      },
      "source": [
        "kleidung={\"Hose\":\"Jeans\",\"Hemd\":\"Baumwolle\",\"Kopfbedeckung\":\"nichts\"}\n",
        "#dein Code hier\n",
        "\n",
        "for i in [\"Hose\",\"Hemd\",\"Kopfbedeckung\"]:\n",
        "  print(\"als\",i,\"trägt er\",kleidung[i])"
      ],
      "execution_count": null,
      "outputs": []
    }
  ]
}